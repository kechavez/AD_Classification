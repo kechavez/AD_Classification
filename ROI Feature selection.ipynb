{
 "cells": [
  {
   "cell_type": "code",
   "execution_count": 180,
   "metadata": {},
   "outputs": [
    {
     "name": "stdout",
     "output_type": "stream",
     "text": [
      "The autoreload extension is already loaded. To reload it, use:\n",
      "  %reload_ext autoreload\n"
     ]
    }
   ],
   "source": [
    "import pandas as pd\n",
    "import numpy as np\n",
    "import matplotlib.pyplot as plt \n",
    "from sklearn import preprocessing\n",
    "from sklearn import svm \n",
    "from sklearn.metrics import accuracy_score\n",
    "from sklearn.svm import LinearSVC\n",
    "import matplotlib.pyplot as plt\n",
    "import seaborn as sns; sns.set(font_scale=1.2)\n",
    "from util import *\n",
    "\n",
    "train_split=0.7 # fraction of the data used in a training set\n",
    "\n",
    "%matplotlib inline\n",
    "%load_ext autoreload\n",
    "%autoreload 2"
   ]
  },
  {
   "cell_type": "code",
   "execution_count": 181,
   "metadata": {},
   "outputs": [
    {
     "name": "stdout",
     "output_type": "stream",
     "text": [
      "tadpole train labels preprocssed.\n",
      "NL 122\n",
      "MCI 196\n",
      "Dementia 45\n",
      "NL to MCI 1\n",
      "MCI to NL 4\n",
      "MCI to Dementia 8\n"
     ]
    }
   ],
   "source": [
    "######################################################################\n",
    "#################### Load raw TADPOLE Data COMPLETE. ##########################\n",
    "######################################################################\n",
    "biomarkers = [\n",
    "                'FDG', 'AV45',\n",
    "                'ABETA_UPENNBIOMK9_04_19_17', 'TAU_UPENNBIOMK9_04_19_17', 'PTAU_UPENNBIOMK9_04_19_17',\n",
    "                'Hippocampus', 'WholeBrain', 'Entorhinal', 'MidTemp',\n",
    "                'CEREBELLUMGREYMATTER_UCBERKELEYAV45_10_17_16',\n",
    "                'WHOLECEREBELLUM_UCBERKELEYAV45_10_17_16',\n",
    "                'ERODED_SUBCORTICALWM_UCBERKELEYAV45_10_17_16',\n",
    "                'FRONTAL_UCBERKELEYAV45_10_17_16',\n",
    "                'CINGULATE_UCBERKELEYAV45_10_17_16',\n",
    "                'PARIETAL_UCBERKELEYAV45_10_17_16',\n",
    "                'TEMPORAL_UCBERKELEYAV45_10_17_16',\n",
    "                'SUMMARYSUVR_WHOLECEREBNORM_UCBERKELEYAV45_10_17_16',\n",
    "                'SUMMARYSUVR_WHOLECEREBNORM_1.11CUTOFF_UCBERKELEYAV45_10_17_16',\n",
    "                'SUMMARYSUVR_COMPOSITE_REFNORM_UCBERKELEYAV45_10_17_16',\n",
    "                'SUMMARYSUVR_COMPOSITE_REFNORM_0.79CUTOFF_UCBERKELEYAV45_10_17_16',\n",
    "                'BRAINSTEM_UCBERKELEYAV45_10_17_16',\n",
    "                'BRAINSTEM_SIZE_UCBERKELEYAV45_10_17_16',\n",
    "                'VENTRICLE_3RD_UCBERKELEYAV45_10_17_16',\n",
    "                'VENTRICLE_3RD_SIZE_UCBERKELEYAV45_10_17_16',\n",
    "                'VENTRICLE_4TH_UCBERKELEYAV45_10_17_16',\n",
    "                'VENTRICLE_4TH_SIZE_UCBERKELEYAV45_10_17_16',\n",
    "                'VENTRICLE_5TH_UCBERKELEYAV45_10_17_16',\n",
    "                'VENTRICLE_5TH_SIZE_UCBERKELEYAV45_10_17_16',\n",
    "                'CC_ANTERIOR_UCBERKELEYAV45_10_17_16',\n",
    "                'CC_ANTERIOR_SIZE_UCBERKELEYAV45_10_17_16',\n",
    "                'CC_CENTRAL_UCBERKELEYAV45_10_17_16',\n",
    "                'CC_CENTRAL_SIZE_UCBERKELEYAV45_10_17_16',\n",
    "                'CC_MID_ANTERIOR_UCBERKELEYAV45_10_17_16',\n",
    "                'CC_MID_ANTERIOR_SIZE_UCBERKELEYAV45_10_17_16',\n",
    "                'CC_MID_POSTERIOR_UCBERKELEYAV45_10_17_16',\n",
    "                'CC_MID_POSTERIOR_SIZE_UCBERKELEYAV45_10_17_16',\n",
    "                'CC_POSTERIOR_UCBERKELEYAV45_10_17_16',\n",
    "                'CC_POSTERIOR_SIZE_UCBERKELEYAV45_10_17_16',\n",
    "                'CSF_UCBERKELEYAV45_10_17_16',\n",
    "                'CSF_SIZE_UCBERKELEYAV45_10_17_16',\n",
    "                'CTX_LH_BANKSSTS_UCBERKELEYAV45_10_17_16',\n",
    "                'CTX_LH_BANKSSTS_SIZE_UCBERKELEYAV45_10_17_16',\n",
    "                'CTX_LH_CAUDALANTERIORCINGULATE_UCBERKELEYAV45_10_17_16',\n",
    "                'CTX_LH_CAUDALANTERIORCINGULATE_SIZE_UCBERKELEYAV45_10_17_16',\n",
    "                'CTX_LH_CAUDALMIDDLEFRONTAL_UCBERKELEYAV45_10_17_16',\n",
    "                'CTX_LH_CAUDALMIDDLEFRONTAL_SIZE_UCBERKELEYAV45_10_17_16',\n",
    "                'CTX_LH_CUNEUS_UCBERKELEYAV45_10_17_16',\n",
    "                'CTX_LH_CUNEUS_SIZE_UCBERKELEYAV45_10_17_16',\n",
    "                'CTX_LH_ENTORHINAL_UCBERKELEYAV45_10_17_16',\n",
    "                'CTX_LH_ENTORHINAL_SIZE_UCBERKELEYAV45_10_17_16',\n",
    "                'CTX_LH_FRONTALPOLE_UCBERKELEYAV45_10_17_16',\n",
    "                'CTX_LH_FRONTALPOLE_SIZE_UCBERKELEYAV45_10_17_16',\n",
    "                'CTX_LH_FUSIFORM_UCBERKELEYAV45_10_17_16',\n",
    "                'CTX_LH_FUSIFORM_SIZE_UCBERKELEYAV45_10_17_16',\n",
    "                'CTX_LH_INFERIORPARIETAL_UCBERKELEYAV45_10_17_16',\n",
    "                'CTX_LH_INFERIORPARIETAL_SIZE_UCBERKELEYAV45_10_17_16',\n",
    "                'CTX_LH_INFERIORTEMPORAL_UCBERKELEYAV45_10_17_16',\n",
    "                'CTX_LH_INFERIORTEMPORAL_SIZE_UCBERKELEYAV45_10_17_16',\n",
    "                'CTX_LH_INSULA_UCBERKELEYAV45_10_17_16',\n",
    "                'CTX_LH_INSULA_SIZE_UCBERKELEYAV45_10_17_16',\n",
    "                'CTX_LH_ISTHMUSCINGULATE_UCBERKELEYAV45_10_17_16',\n",
    "                'CTX_LH_ISTHMUSCINGULATE_SIZE_UCBERKELEYAV45_10_17_16',\n",
    "                'CTX_LH_LATERALOCCIPITAL_UCBERKELEYAV45_10_17_16',\n",
    "                'CTX_LH_LATERALOCCIPITAL_SIZE_UCBERKELEYAV45_10_17_16',\n",
    "                'CTX_LH_LATERALORBITOFRONTAL_UCBERKELEYAV45_10_17_16',\n",
    "                'CTX_LH_LATERALORBITOFRONTAL_SIZE_UCBERKELEYAV45_10_17_16',\n",
    "                'CTX_LH_LINGUAL_UCBERKELEYAV45_10_17_16',\n",
    "                'CTX_LH_LINGUAL_SIZE_UCBERKELEYAV45_10_17_16',\n",
    "                'CTX_LH_MEDIALORBITOFRONTAL_UCBERKELEYAV45_10_17_16',\n",
    "                'CTX_LH_MEDIALORBITOFRONTAL_SIZE_UCBERKELEYAV45_10_17_16',\n",
    "                'CTX_LH_MIDDLETEMPORAL_UCBERKELEYAV45_10_17_16',\n",
    "                'CTX_LH_MIDDLETEMPORAL_SIZE_UCBERKELEYAV45_10_17_16',\n",
    "                'CTX_LH_PARACENTRAL_UCBERKELEYAV45_10_17_16',\n",
    "                'CTX_LH_PARACENTRAL_SIZE_UCBERKELEYAV45_10_17_16',\n",
    "                'CTX_LH_PARAHIPPOCAMPAL_UCBERKELEYAV45_10_17_16',\n",
    "               'CTX_LH_PARAHIPPOCAMPAL_SIZE_UCBERKELEYAV45_10_17_16',\n",
    "            ]\n",
    "\n",
    "demographic = ['AGE', 'PTGENDER', 'PTEDUCAT', 'PTMARRY','APOE4']\n",
    "\n",
    "cognitive_test = [ 'ADAS11', 'MMSE', 'RAVLT_immediate', 'CDRSB',]\n",
    "\n",
    "features = biomarkers + demographic + cognitive_test\n",
    "\n",
    "\n",
    "tadpole2 = pd.read_csv('TADPOLE_D1_D2.csv',\n",
    "                       usecols=features + ['DX'],\n",
    "                       low_memory=False)  \n",
    "tadpole2 = tadpole2.dropna()\n",
    "# tadpole2 = collapse_dx(tadpole2)\n",
    "print('tadpole train labels preprocssed.')\n",
    "print('NL' , np.sum(tadpole2['DX'] == 'NL'))\n",
    "print('MCI' , np.sum(tadpole2['DX'] == 'MCI'))\n",
    "print('Dementia' , np.sum(tadpole2['DX'] == 'Dementia'))\n",
    "print('NL to MCI' , np.sum(tadpole2['DX'] == 'NL to MCI'))\n",
    "print('MCI to NL' , np.sum(tadpole2['DX'] == 'MCI to NL'))\n",
    "print('MCI to Dementia' , np.sum(tadpole2['DX'] == 'MCI to Dementia'))\n",
    "# print('t2', tadpole2)"
   ]
  },
  {
   "cell_type": "code",
   "execution_count": 26,
   "metadata": {
    "scrolled": false
   },
   "outputs": [
    {
     "name": "stdout",
     "output_type": "stream",
     "text": [
      "xt []\n",
      "tadpole train labels preprocssed.\n",
      "NL 122\n",
      "MCI 0\n",
      "Dementia 241\n",
      "NL to MCI 0\n",
      "MCI to NL 0\n",
      "MCI to Dementia 8\n"
     ]
    }
   ],
   "source": [
    "########### USING OTHER BIOMARKERS #############\n",
    "x_train, y_train, x_test, y_test = preprocess_volumetric(tadpole2, train_split)\n",
    "# print('xt',x_train)\n",
    "\n",
    "\n",
    "\n",
    "# pd.unique(tadpole2['DX'])\n",
    "# tadpole2"
   ]
  },
  {
   "cell_type": "code",
   "execution_count": 17,
   "metadata": {},
   "outputs": [
    {
     "ename": "ValueError",
     "evalue": "Found array with 0 sample(s) (shape=(0, 85)) while a minimum of 1 is required.",
     "output_type": "error",
     "traceback": [
      "\u001b[0;31m---------------------------------------------------------------------------\u001b[0m",
      "\u001b[0;31mValueError\u001b[0m                                Traceback (most recent call last)",
      "\u001b[0;32m<ipython-input-17-3d6c69438262>\u001b[0m in \u001b[0;36m<module>\u001b[0;34m()\u001b[0m\n\u001b[1;32m      4\u001b[0m \u001b[0;31m# linearsvm_model = LinearSVC(verbose=2, max_iter=10000000, dual=False, C=1, penalty='l1')\u001b[0m\u001b[0;34m\u001b[0m\u001b[0;34m\u001b[0m\u001b[0m\n\u001b[1;32m      5\u001b[0m \u001b[0;34m\u001b[0m\u001b[0m\n\u001b[0;32m----> 6\u001b[0;31m \u001b[0mlinearsvm_model\u001b[0m\u001b[0;34m.\u001b[0m\u001b[0mfit\u001b[0m\u001b[0;34m(\u001b[0m\u001b[0mx_train\u001b[0m\u001b[0;34m,\u001b[0m \u001b[0my_train\u001b[0m\u001b[0;34m)\u001b[0m\u001b[0;34m\u001b[0m\u001b[0m\n\u001b[0m",
      "\u001b[0;32m/anaconda3/lib/python3.6/site-packages/sklearn/svm/base.py\u001b[0m in \u001b[0;36mfit\u001b[0;34m(self, X, y, sample_weight)\u001b[0m\n\u001b[1;32m    147\u001b[0m         \u001b[0mself\u001b[0m\u001b[0;34m.\u001b[0m\u001b[0m_sparse\u001b[0m \u001b[0;34m=\u001b[0m \u001b[0msparse\u001b[0m \u001b[0;32mand\u001b[0m \u001b[0;32mnot\u001b[0m \u001b[0mcallable\u001b[0m\u001b[0;34m(\u001b[0m\u001b[0mself\u001b[0m\u001b[0;34m.\u001b[0m\u001b[0mkernel\u001b[0m\u001b[0;34m)\u001b[0m\u001b[0;34m\u001b[0m\u001b[0m\n\u001b[1;32m    148\u001b[0m \u001b[0;34m\u001b[0m\u001b[0m\n\u001b[0;32m--> 149\u001b[0;31m         \u001b[0mX\u001b[0m\u001b[0;34m,\u001b[0m \u001b[0my\u001b[0m \u001b[0;34m=\u001b[0m \u001b[0mcheck_X_y\u001b[0m\u001b[0;34m(\u001b[0m\u001b[0mX\u001b[0m\u001b[0;34m,\u001b[0m \u001b[0my\u001b[0m\u001b[0;34m,\u001b[0m \u001b[0mdtype\u001b[0m\u001b[0;34m=\u001b[0m\u001b[0mnp\u001b[0m\u001b[0;34m.\u001b[0m\u001b[0mfloat64\u001b[0m\u001b[0;34m,\u001b[0m \u001b[0morder\u001b[0m\u001b[0;34m=\u001b[0m\u001b[0;34m'C'\u001b[0m\u001b[0;34m,\u001b[0m \u001b[0maccept_sparse\u001b[0m\u001b[0;34m=\u001b[0m\u001b[0;34m'csr'\u001b[0m\u001b[0;34m)\u001b[0m\u001b[0;34m\u001b[0m\u001b[0m\n\u001b[0m\u001b[1;32m    150\u001b[0m         \u001b[0my\u001b[0m \u001b[0;34m=\u001b[0m \u001b[0mself\u001b[0m\u001b[0;34m.\u001b[0m\u001b[0m_validate_targets\u001b[0m\u001b[0;34m(\u001b[0m\u001b[0my\u001b[0m\u001b[0;34m)\u001b[0m\u001b[0;34m\u001b[0m\u001b[0m\n\u001b[1;32m    151\u001b[0m \u001b[0;34m\u001b[0m\u001b[0m\n",
      "\u001b[0;32m/anaconda3/lib/python3.6/site-packages/sklearn/utils/validation.py\u001b[0m in \u001b[0;36mcheck_X_y\u001b[0;34m(X, y, accept_sparse, dtype, order, copy, force_all_finite, ensure_2d, allow_nd, multi_output, ensure_min_samples, ensure_min_features, y_numeric, warn_on_dtype, estimator)\u001b[0m\n\u001b[1;32m    540\u001b[0m     X = check_array(X, accept_sparse, dtype, order, copy, force_all_finite,\n\u001b[1;32m    541\u001b[0m                     \u001b[0mensure_2d\u001b[0m\u001b[0;34m,\u001b[0m \u001b[0mallow_nd\u001b[0m\u001b[0;34m,\u001b[0m \u001b[0mensure_min_samples\u001b[0m\u001b[0;34m,\u001b[0m\u001b[0;34m\u001b[0m\u001b[0m\n\u001b[0;32m--> 542\u001b[0;31m                     ensure_min_features, warn_on_dtype, estimator)\n\u001b[0m\u001b[1;32m    543\u001b[0m     \u001b[0;32mif\u001b[0m \u001b[0mmulti_output\u001b[0m\u001b[0;34m:\u001b[0m\u001b[0;34m\u001b[0m\u001b[0m\n\u001b[1;32m    544\u001b[0m         y = check_array(y, 'csr', force_all_finite=True, ensure_2d=False,\n",
      "\u001b[0;32m/anaconda3/lib/python3.6/site-packages/sklearn/utils/validation.py\u001b[0m in \u001b[0;36mcheck_array\u001b[0;34m(array, accept_sparse, dtype, order, copy, force_all_finite, ensure_2d, allow_nd, ensure_min_samples, ensure_min_features, warn_on_dtype, estimator)\u001b[0m\n\u001b[1;32m    429\u001b[0m                              \u001b[0;34m\" minimum of %d is required%s.\"\u001b[0m\u001b[0;34m\u001b[0m\u001b[0m\n\u001b[1;32m    430\u001b[0m                              % (n_samples, shape_repr, ensure_min_samples,\n\u001b[0;32m--> 431\u001b[0;31m                                 context))\n\u001b[0m\u001b[1;32m    432\u001b[0m \u001b[0;34m\u001b[0m\u001b[0m\n\u001b[1;32m    433\u001b[0m     \u001b[0;32mif\u001b[0m \u001b[0mensure_min_features\u001b[0m \u001b[0;34m>\u001b[0m \u001b[0;36m0\u001b[0m \u001b[0;32mand\u001b[0m \u001b[0marray\u001b[0m\u001b[0;34m.\u001b[0m\u001b[0mndim\u001b[0m \u001b[0;34m==\u001b[0m \u001b[0;36m2\u001b[0m\u001b[0;34m:\u001b[0m\u001b[0;34m\u001b[0m\u001b[0m\n",
      "\u001b[0;31mValueError\u001b[0m: Found array with 0 sample(s) (shape=(0, 85)) while a minimum of 1 is required."
     ]
    }
   ],
   "source": [
    "# Fit a linear kernel SVM model\n",
    "\n",
    "linearsvm_model = svm.SVC(kernel='linear')\n",
    "# linearsvm_model = LinearSVC(verbose=2, max_iter=10000000, dual=False, C=1, penalty='l1')\n",
    "\n",
    "linearsvm_model.fit(x_train, y_train)"
   ]
  },
  {
   "cell_type": "code",
   "execution_count": 12,
   "metadata": {},
   "outputs": [
    {
     "name": "stdout",
     "output_type": "stream",
     "text": [
      "sklearn acc training acc:  0.89756097561\n",
      "sklearn acc test acc:  0.755813953488\n"
     ]
    }
   ],
   "source": [
    "# Evaluate using test set.\n",
    "predicted_labels = linearsvm_model.predict(x_test)\n",
    "print('sklearn acc training acc: ', accuracy_score(y_train, linearsvm_model.predict(x_train)))\n",
    "print('sklearn acc test acc: ', accuracy_score(y_test, predicted_labels))"
   ]
  },
  {
   "cell_type": "code",
   "execution_count": 13,
   "metadata": {},
   "outputs": [
    {
     "name": "stdout",
     "output_type": "stream",
     "text": [
      "Confusion matrix\n",
      "[[ 1 15]\n",
      " [ 6 64]]\n"
     ]
    },
    {
     "data": {
      "image/png": "[encoded data removed]",
      "text/plain": [
       "<matplotlib.figure.Figure at 0x111f085c0>"
      ]
     },
     "metadata": {},
     "output_type": "display_data"
    }
   ],
   "source": [
    "# Confusion Matrix\n",
    "cnf_matrix=confusion_matrix(y_test, predicted_labels)\n",
    "class_names=list(['Dementia','NL'])\n",
    "\n",
    "plot_confusion_matrix(cnf_matrix, classes=class_names, title='Confusion matrix')"
   ]
  },
  {
   "cell_type": "markdown",
   "metadata": {
    "collapsed": true
   },
   "source": []
  },
  {
   "cell_type": "markdown",
   "metadata": {},
   "source": [
    "**Combining Data**\n",
    "\n",
    "1) Delete \"NL to MCI\" and \"MCI to NL\". There are only few of these data points.\n",
    "\n",
    "2) Collapse \"MCI to Dementia\", \"MCI\", and \"Dementia\" into just \"Dementia\".\n",
    "\n",
    "See collapse_dx in util.py"
   ]
  },
  {
   "cell_type": "markdown",
   "metadata": {},
   "source": [
    "** BIOMARKERS ONLY **\n",
    "  **NOTE: Uncollapsed labels. SVC linear**\n",
    "\n",
    "    sklearn acc training acc:  0.631067961165 \n",
    "\n",
    "    sklearn acc test acc:  0.436781609195\n",
    "\n",
    "\n",
    "    LinearSVC, regularized\n",
    "\n",
    "    sklearn acc training acc:  0.665048543689\n",
    "\n",
    "    sklearn acc test acc:  0.436781609195\n",
    "\n",
    "\n",
    "  **Collapsed MCI -> NL**\n",
    "\n",
    "    sklearn acc training acc:  0.921951219512\n",
    "\n",
    "    sklearn acc test acc:  0.767441860465\n"
   ]
  },
  {
   "cell_type": "code",
   "execution_count": 102,
   "metadata": {},
   "outputs": [
    {
     "name": "stdout",
     "output_type": "stream",
     "text": [
      "reet ['NL' 'Dementia']\n",
      "[LibLinear]"
     ]
    },
    {
     "name": "stderr",
     "output_type": "stream",
     "text": [
      "/anaconda3/lib/python3.6/site-packages/sklearn/svm/base.py:898: ConvergenceWarning: Liblinear failed to converge, increase the number of iterations.\n",
      "  \"the number of iterations.\", ConvergenceWarning)\n"
     ]
    },
    {
     "data": {
      "text/plain": [
       "LinearSVC(C=1, class_weight=None, dual=False, fit_intercept=True,\n",
       "     intercept_scaling=1, loss='squared_hinge', max_iter=1000000,\n",
       "     multi_class='ovr', penalty='l1', random_state=None, tol=0.0001,\n",
       "     verbose=2)"
      ]
     },
     "execution_count": 102,
     "metadata": {},
     "output_type": "execute_result"
    }
   ],
   "source": [
    "########### USING BIOMARKERS + DEMOGRAPHIC + COGNITIVE TESTS #############\n",
    "x, y = preprocess_all_feat(tadpole2)\n",
    "x_train, y_train, x_test, y_test = split_data(x,y, train_split)\n",
    "#print('y',y_train)\n",
    "# Fit a linear kernel SVM model\n",
    "\n",
    "#linearsvm_model = svm.SVC(kernel='linear')\n",
    "linearsvm_model = LinearSVC(verbose=2, max_iter=1000000, dual=False, C=1, penalty='l1')\n",
    "\n",
    "linearsvm_model.fit(x_train, y_train)"
   ]
  },
  {
   "cell_type": "code",
   "execution_count": 104,
   "metadata": {},
   "outputs": [
    {
     "name": "stdout",
     "output_type": "stream",
     "text": [
      "sklearn acc training acc:  1.0\n",
      "sklearn acc test acc:  0.895348837209\n",
      "Confusion matrix\n",
      "[[ 8  2]\n",
      " [ 7 69]]\n"
     ]
    },
    {
     "data": {
      "image/png": "[encoded data removed]",
      "text/plain": [
       "<matplotlib.figure.Figure at 0x10d9036a0>"
      ]
     },
     "metadata": {},
     "output_type": "display_data"
    }
   ],
   "source": [
    "# Evaluate using test set.\n",
    "predicted_labels = linearsvm_model.predict(x_test)\n",
    "print('sklearn acc training acc: ', accuracy_score(y_train, linearsvm_model.predict(x_train)))\n",
    "print('sklearn acc test acc: ', accuracy_score(y_test, predicted_labels))\n",
    "# Confusion Matrix\n",
    "cnf_matrix=confusion_matrix(y_test, predicted_labels)\n",
    "class_names=list(['Dementia','NL'])\n",
    "plot_confusion_matrix(cnf_matrix, classes=class_names, title='Confusion matrix')"
   ]
  },
  {
   "cell_type": "markdown",
   "metadata": {},
   "source": [
    "** BIOMARKERS + DEMOGRAPHIC + COGNITIVE TESTS, (MCI->NL)**\n",
    "\n",
    "C=.0001, penalty='l1'\n",
    "\n",
    "sklearn acc training acc:  1.0\n",
    "\n",
    "sklearn acc test acc:  0.802325581395\n",
    "\n",
    "\n",
    "C=1, penalty='l1'\n",
    "\n",
    "sklearn acc training acc:  1.0 \n",
    "\n",
    "sklearn acc test acc:  0.895348837209"
   ]
  },
  {
   "cell_type": "code",
   "execution_count": null,
   "metadata": {
    "collapsed": true
   },
   "outputs": [],
   "source": [
    "######### HOLD OUT CROSS VALIDATION ##########"
   ]
  },
  {
   "cell_type": "code",
   "execution_count": 179,
   "metadata": {},
   "outputs": [
    {
     "name": "stdout",
     "output_type": "stream",
     "text": [
      "\n",
      "xltr (205, 2) ylte (88, 1)\n",
      "y.iloc[test_index] 88\n",
      "train score 0.90243902439  test score 0.647727272727\n",
      "\n",
      "xltr (205, 2) ylte (88, 1)\n",
      "y.iloc[test_index] 88\n",
      "train score 0.931707317073  test score 0.738636363636\n",
      "\n",
      "xltr (205, 2) ylte (88, 1)\n",
      "y.iloc[test_index] 88\n",
      "train score 0.907317073171  test score 0.727272727273\n",
      "\n",
      "xltr (205, 2) ylte (88, 1)\n",
      "y.iloc[test_index] 88\n",
      "train score 0.926829268293  test score 0.647727272727\n",
      "\n",
      "xltr (205, 2) ylte (88, 1)\n",
      "y.iloc[test_index] 88\n",
      "train score 0.907317073171  test score 0.738636363636\n",
      "\n",
      "xltr (205, 2) ylte (88, 1)\n",
      "y.iloc[test_index] 88\n",
      "train score 0.853658536585  test score 0.738636363636\n",
      "\n",
      "xltr (205, 2) ylte (88, 1)\n",
      "y.iloc[test_index] 88\n",
      "train score 0.912195121951  test score 0.704545454545\n",
      "\n",
      "xltr (205, 2) ylte (88, 1)\n",
      "y.iloc[test_index] 88\n",
      "train score 0.892682926829  test score 0.738636363636\n",
      "\n",
      "xltr (205, 2) ylte (88, 1)\n",
      "y.iloc[test_index] 88\n",
      "train score 0.912195121951  test score 0.75\n",
      "\n",
      "xltr (205, 2) ylte (88, 1)\n",
      "y.iloc[test_index] 88\n",
      "train score 0.90243902439  test score 0.75\n",
      "\n",
      "xltr (205, 2) ylte (88, 1)\n",
      "y.iloc[test_index] 88\n",
      "train score 0.926829268293  test score 0.659090909091\n",
      "\n",
      "xltr (205, 2) ylte (88, 1)\n",
      "y.iloc[test_index] 88\n",
      "train score 0.917073170732  test score 0.681818181818\n",
      "\n",
      "xltr (205, 2) ylte (88, 1)\n",
      "y.iloc[test_index] 88\n",
      "train score 0.926829268293  test score 0.647727272727\n",
      "\n",
      "xltr (205, 2) ylte (88, 1)\n",
      "y.iloc[test_index] 88\n",
      "train score 0.926829268293  test score 0.636363636364\n",
      "\n",
      "xltr (205, 2) ylte (88, 1)\n",
      "y.iloc[test_index] 88\n",
      "train score 0.89756097561  test score 0.761363636364\n"
     ]
    },
    {
     "name": "stderr",
     "output_type": "stream",
     "text": [
      "/anaconda3/lib/python3.6/site-packages/sklearn/utils/validation.py:547: DataConversionWarning: A column-vector y was passed when a 1d array was expected. Please change the shape of y to (n_samples, ), for example using ravel().\n",
      "  y = column_or_1d(y, warn=True)\n"
     ]
    },
    {
     "name": "stdout",
     "output_type": "stream",
     "text": [
      "\n",
      "xltr (205, 2) ylte (88, 1)\n",
      "y.iloc[test_index] 88\n",
      "train score 0.907317073171  test score 0.693181818182\n",
      "\n",
      "xltr (205, 2) ylte (88, 1)\n",
      "y.iloc[test_index] 88\n",
      "train score 0.917073170732  test score 0.693181818182\n",
      "\n",
      "xltr (205, 2) ylte (88, 1)\n",
      "y.iloc[test_index] 88\n",
      "train score 0.892682926829  test score 0.704545454545\n",
      "\n",
      "xltr (205, 2) ylte (88, 1)\n",
      "y.iloc[test_index] 88\n",
      "train score 0.917073170732  test score 0.761363636364\n",
      "\n",
      "xltr (205, 2) ylte (88, 1)\n",
      "y.iloc[test_index] 88\n",
      "train score 0.912195121951  test score 0.727272727273\n",
      "\n",
      "xltr (205, 2) ylte (88, 1)\n",
      "y.iloc[test_index] 88\n",
      "train score 0.936585365854  test score 0.727272727273\n",
      "\n",
      "xltr (205, 2) ylte (88, 1)\n",
      "y.iloc[test_index] 88\n",
      "train score 0.956097560976  test score 0.693181818182\n",
      "\n",
      "xltr (205, 2) ylte (88, 1)\n",
      "y.iloc[test_index] 88\n",
      "train score 0.921951219512  test score 0.715909090909\n",
      "\n",
      "xltr (205, 2) ylte (88, 1)\n",
      "y.iloc[test_index] 88\n",
      "train score 0.936585365854  test score 0.704545454545\n",
      "\n",
      "xltr (205, 2) ylte (88, 1)\n",
      "y.iloc[test_index] 88\n",
      "train score 0.907317073171  test score 0.670454545455\n",
      "\n",
      "xltr (205, 2) ylte (88, 1)\n",
      "y.iloc[test_index] 88\n",
      "train score 0.907317073171  test score 0.670454545455\n",
      "\n",
      "xltr (205, 2) ylte (88, 1)\n",
      "y.iloc[test_index] 88\n",
      "train score 0.907317073171  test score 0.704545454545\n",
      "\n",
      "xltr (205, 2) ylte (88, 1)\n",
      "y.iloc[test_index] 88\n",
      "train score 0.89756097561  test score 0.693181818182\n",
      "\n",
      "xltr (205, 2) ylte (88, 1)\n",
      "y.iloc[test_index] 88\n",
      "train score 0.892682926829  test score 0.715909090909\n",
      "\n",
      "xltr (205, 2) ylte (88, 1)\n",
      "y.iloc[test_index] 88\n",
      "train score 0.89756097561  test score 0.636363636364\n",
      "\n",
      "xltr (205, 2) ylte (88, 1)\n",
      "y.iloc[test_index] 88\n",
      "train score 0.956097560976  test score 0.681818181818\n",
      "\n",
      "xltr (205, 2) ylte (88, 1)\n",
      "y.iloc[test_index] 88\n",
      "train score 0.90243902439  test score 0.715909090909\n",
      "\n",
      "xltr (205, 2) ylte (88, 1)\n",
      "y.iloc[test_index] 88\n",
      "train score 0.917073170732  test score 0.647727272727\n",
      "\n",
      "xltr (205, 2) ylte (88, 1)\n",
      "y.iloc[test_index] 88\n",
      "train score 0.921951219512  test score 0.704545454545\n",
      "\n",
      "xltr (205, 2) ylte (88, 1)\n",
      "y.iloc[test_index] 88\n",
      "train score 0.907317073171  test score 0.659090909091\n",
      "\n",
      "xltr (205, 2) ylte (88, 1)\n",
      "y.iloc[test_index] 88\n",
      "train score 0.892682926829  test score 0.761363636364\n",
      "\n",
      "xltr (205, 2) ylte (88, 1)\n",
      "y.iloc[test_index] 88\n",
      "train score 0.873170731707  test score 0.738636363636\n",
      "\n",
      "xltr (205, 2) ylte (88, 1)\n",
      "y.iloc[test_index] 88\n",
      "train score 0.917073170732  test score 0.659090909091\n",
      "\n",
      "xltr (205, 2) ylte (88, 1)\n",
      "y.iloc[test_index] 88\n",
      "train score 0.946341463415  test score 0.681818181818\n",
      "\n",
      "xltr (205, 2) ylte (88, 1)\n",
      "y.iloc[test_index] 88\n",
      "train score 0.89756097561  test score 0.693181818182\n",
      "\n",
      "xltr (205, 2) ylte (88, 1)\n",
      "y.iloc[test_index] 88\n",
      "train score 0.892682926829  test score 0.681818181818\n",
      "\n",
      "xltr (205, 2) ylte (88, 1)\n",
      "y.iloc[test_index] 88\n",
      "train score 0.946341463415  test score 0.693181818182\n",
      "\n",
      "xltr (205, 2) ylte (88, 1)\n",
      "y.iloc[test_index] 88\n",
      "train score 0.921951219512  test score 0.670454545455\n",
      "\n",
      "xltr (205, 2) ylte (88, 1)\n",
      "y.iloc[test_index] 88\n",
      "train score 0.931707317073  test score 0.659090909091\n",
      "\n",
      "xltr (205, 2) ylte (88, 1)\n",
      "y.iloc[test_index] 88\n",
      "train score 0.887804878049  test score 0.693181818182\n",
      "\n",
      "xltr (205, 2) ylte (88, 1)\n",
      "y.iloc[test_index] 88\n",
      "train score 0.917073170732  test score 0.704545454545\n",
      "\n",
      "xltr (205, 2) ylte (88, 1)\n",
      "y.iloc[test_index] 88\n",
      "train score 0.907317073171  test score 0.715909090909\n",
      "\n",
      "xltr (205, 2) ylte (88, 1)\n",
      "y.iloc[test_index] 88\n",
      "train score 0.878048780488  test score 0.693181818182\n",
      "\n",
      "xltr (205, 2) ylte (88, 1)\n",
      "y.iloc[test_index] 88\n",
      "train score 0.917073170732  test score 0.704545454545\n",
      "\n",
      "xltr (205, 2) ylte (88, 1)\n",
      "y.iloc[test_index] 88\n",
      "train score 0.936585365854  test score 0.727272727273\n",
      "\n",
      "\n",
      "Average Training Score :  0.912390243902\n",
      "Average Testing Score :  0.699318181818\n"
     ]
    }
   ],
   "source": [
    "x, y = preprocess_all_feat(tadpole2)\n",
    "hold_out_CV(x,y, svc='poly', svmc=.01)"
   ]
  },
  {
   "cell_type": "code",
   "execution_count": null,
   "metadata": {
    "collapsed": true
   },
   "outputs": [],
   "source": []
  }
 ],
 "metadata": {
  "kernelspec": {
   "display_name": "Python 3",
   "language": "python",
   "name": "python3"
  },
  "language_info": {
   "codemirror_mode": {
    "name": "ipython",
    "version": 3
   },
   "file_extension": ".py",
   "mimetype": "text/x-python",
   "name": "python",
   "nbconvert_exporter": "python",
   "pygments_lexer": "ipython3",
   "version": "3.6.2"
  }
 },
 "nbformat": 4,
 "nbformat_minor": 2
}
